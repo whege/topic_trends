{
 "cells": [
  {
   "cell_type": "code",
   "execution_count": 2,
   "id": "a705c002",
   "metadata": {},
   "outputs": [],
   "source": [
    "import json\n",
    "from os import environ\n",
    "import requests\n",
    "import time\n",
    "\n",
    "from dotenv import load_dotenv"
   ]
  },
  {
   "cell_type": "code",
   "execution_count": 3,
   "id": "a0b065f0",
   "metadata": {},
   "outputs": [
    {
     "data": {
      "text/plain": [
       "True"
      ]
     },
     "execution_count": 3,
     "metadata": {},
     "output_type": "execute_result"
    }
   ],
   "source": [
    "load_dotenv()"
   ]
  },
  {
   "cell_type": "code",
   "execution_count": 44,
   "id": "c46d7916",
   "metadata": {},
   "outputs": [],
   "source": [
    "def query_nyt(year: int, month: int):   \n",
    "    if len(str(year)) != 4:\n",
    "           raise ValueError\n",
    "    \n",
    "    if month not in range(0, 13):\n",
    "        raise ValueError\n",
    "        \n",
    "    url = f\"https://api.nytimes.com/svc/archive/v1/{year}/{month}.json?api-key={environ['NYT_KEY']}\"\n",
    "    \n",
    "    return requests.get(url).json()"
   ]
  },
  {
   "cell_type": "code",
   "execution_count": 45,
   "id": "b76f5de4",
   "metadata": {},
   "outputs": [],
   "source": [
    "response = query_nyt(2022, 1)"
   ]
  },
  {
   "cell_type": "code",
   "execution_count": 46,
   "id": "fe224ddd",
   "metadata": {},
   "outputs": [],
   "source": [
    "articles = response['response']['docs']"
   ]
  },
  {
   "cell_type": "code",
   "execution_count": 47,
   "id": "599b2c8f",
   "metadata": {},
   "outputs": [
    {
     "data": {
      "text/plain": [
       "3799"
      ]
     },
     "execution_count": 47,
     "metadata": {},
     "output_type": "execute_result"
    }
   ],
   "source": [
    "len(articles)"
   ]
  },
  {
   "cell_type": "code",
   "execution_count": 48,
   "id": "a8c6c1a7",
   "metadata": {},
   "outputs": [
    {
     "data": {
      "text/plain": [
       "dict"
      ]
     },
     "execution_count": 48,
     "metadata": {},
     "output_type": "execute_result"
    }
   ],
   "source": [
    "test = articles[0]\n",
    "type(test)"
   ]
  },
  {
   "cell_type": "code",
   "execution_count": 49,
   "id": "aa50b8a1",
   "metadata": {},
   "outputs": [
    {
     "data": {
      "text/plain": [
       "dict_keys(['abstract', 'web_url', 'snippet', 'lead_paragraph', 'print_section', 'print_page', 'source', 'multimedia', 'headline', 'keywords', 'pub_date', 'document_type', 'news_desk', 'section_name', 'subsection_name', 'byline', 'type_of_material', '_id', 'word_count', 'uri'])"
      ]
     },
     "execution_count": 49,
     "metadata": {},
     "output_type": "execute_result"
    }
   ],
   "source": [
    "test.keys()"
   ]
  },
  {
   "cell_type": "code",
   "execution_count": 32,
   "id": "cb686e5b",
   "metadata": {},
   "outputs": [
    {
     "data": {
      "text/plain": [
       "[{'name': 'subject', 'value': 'Football (College)', 'rank': 1, 'major': 'N'},\n",
       " {'name': 'organizations',\n",
       "  'value': 'University of Alabama',\n",
       "  'rank': 2,\n",
       "  'major': 'N'},\n",
       " {'name': 'organizations',\n",
       "  'value': 'University of Cincinnati',\n",
       "  'rank': 3,\n",
       "  'major': 'N'},\n",
       " {'name': 'subject',\n",
       "  'value': 'Cotton Bowl (Football Game)',\n",
       "  'rank': 4,\n",
       "  'major': 'N'},\n",
       " {'name': 'subject',\n",
       "  'value': 'College Football Playoff National Championship',\n",
       "  'rank': 5,\n",
       "  'major': 'N'}]"
      ]
     },
     "execution_count": 32,
     "metadata": {},
     "output_type": "execute_result"
    }
   ],
   "source": [
    "test['keywords']"
   ]
  },
  {
   "cell_type": "code",
   "execution_count": 52,
   "id": "44277cac",
   "metadata": {},
   "outputs": [
    {
     "name": "stdout",
     "output_type": "stream",
     "text": [
      "abstract: The Crimson Tide will face the Georgia Bulldogs on Jan. 10 for the national championship.\n",
      "\n",
      "web_url: https://www.nytimes.com/2021/12/31/sports/ncaafootball/alabama-cincinnati-cotton-bowl-score.html\n",
      "\n",
      "snippet: The Crimson Tide will face the Georgia Bulldogs on Jan. 10 for the national championship.\n",
      "\n",
      "lead_paragraph: ARLINGTON, Texas — This was the moment the Cincinnati Bearcats had pined for all season. The roster is chock-full of local kids, overlooked by Ohio State in high school and largely underestimated now by the football elite, who put their place in the College Football Playoff down to a matter of necessity: The sport needed a fourth team in the field.\n",
      "\n",
      "print_section: B\n",
      "\n",
      "print_page: 6\n",
      "\n",
      "source: The New York Times\n",
      "\n",
      "multimedia: [{'rank': 0, 'subtype': 'xlarge', 'caption': None, 'credit': None, 'type': 'image', 'url': 'images/2021/12/31/sports/31cfb-cotton01/merlin_199794252_d5688c82-37da-401c-a721-d300940aebc6-articleLarge.jpg', 'height': 400, 'width': 600, 'subType': 'xlarge', 'crop_name': 'articleLarge', 'legacy': {'xlarge': 'images/2021/12/31/sports/31cfb-cotton01/merlin_199794252_d5688c82-37da-401c-a721-d300940aebc6-articleLarge.jpg', 'xlargewidth': 600, 'xlargeheight': 400}}, {'rank': 0, 'subtype': 'jumbo', 'caption': None, 'credit': None, 'type': 'image', 'url': 'images/2021/12/31/sports/31cfb-cotton01/merlin_199794252_d5688c82-37da-401c-a721-d300940aebc6-jumbo.jpg', 'height': 683, 'width': 1024, 'subType': 'jumbo', 'crop_name': 'jumbo', 'legacy': {}}, {'rank': 0, 'subtype': 'superJumbo', 'caption': None, 'credit': None, 'type': 'image', 'url': 'images/2021/12/31/sports/31cfb-cotton01/merlin_199794252_d5688c82-37da-401c-a721-d300940aebc6-superJumbo.jpg', 'height': 1365, 'width': 2048, 'subType': 'superJumbo', 'crop_name': 'superJumbo', 'legacy': {}}, {'rank': 0, 'subtype': 'thumbnail', 'caption': None, 'credit': None, 'type': 'image', 'url': 'images/2021/12/31/sports/31cfb-cotton01/31cfb-cotton01-thumbStandard.jpg', 'height': 75, 'width': 75, 'subType': 'thumbnail', 'crop_name': 'thumbStandard', 'legacy': {'thumbnail': 'images/2021/12/31/sports/31cfb-cotton01/31cfb-cotton01-thumbStandard.jpg', 'thumbnailwidth': 75, 'thumbnailheight': 75}}, {'rank': 0, 'subtype': 'thumbLarge', 'caption': None, 'credit': None, 'type': 'image', 'url': 'images/2021/12/31/sports/31cfb-cotton01/31cfb-cotton01-thumbLarge.jpg', 'height': 150, 'width': 150, 'subType': 'thumbLarge', 'crop_name': 'thumbLarge', 'legacy': {}}]\n",
      "\n",
      "headline: {'main': 'Alabama Rolls Past Cincinnati, 27-6, in College Football Playoff Semifinal', 'kicker': 'Alabama 27, Cincinnati 6', 'content_kicker': None, 'print_headline': 'The Tide Rolls On', 'name': None, 'seo': None, 'sub': None}\n",
      "\n",
      "keywords: [{'name': 'subject', 'value': 'Football (College)', 'rank': 1, 'major': 'N'}, {'name': 'organizations', 'value': 'University of Alabama', 'rank': 2, 'major': 'N'}, {'name': 'organizations', 'value': 'University of Cincinnati', 'rank': 3, 'major': 'N'}, {'name': 'subject', 'value': 'Cotton Bowl (Football Game)', 'rank': 4, 'major': 'N'}, {'name': 'subject', 'value': 'College Football Playoff National Championship', 'rank': 5, 'major': 'N'}]\n",
      "\n",
      "pub_date: 2022-01-01T00:01:35+0000\n",
      "\n",
      "document_type: article\n",
      "\n",
      "news_desk: Sports\n",
      "\n",
      "section_name: Sports\n",
      "\n",
      "subsection_name: College Football\n",
      "\n",
      "byline: {'original': 'By Billy Witz', 'person': [{'firstname': 'Billy', 'middlename': None, 'lastname': 'Witz', 'qualifier': None, 'title': None, 'role': 'reported', 'organization': '', 'rank': 1}], 'organization': None}\n",
      "\n",
      "type_of_material: News\n",
      "\n",
      "_id: nyt://article/50aa9e4f-5d58-5577-9492-99f66707b3ce\n",
      "\n",
      "word_count: 1245\n",
      "\n",
      "uri: nyt://article/50aa9e4f-5d58-5577-9492-99f66707b3ce\n",
      "\n"
     ]
    }
   ],
   "source": [
    "for k in test.keys():\n",
    "    print(f'{k}: {test[k]}')\n",
    "    print()"
   ]
  },
  {
   "cell_type": "code",
   "execution_count": 41,
   "id": "59426c74",
   "metadata": {},
   "outputs": [],
   "source": [
    "def get_keywords(article):\n",
    "    return [k['value'] for k in article['keywords']]"
   ]
  },
  {
   "cell_type": "code",
   "execution_count": 42,
   "id": "51d1ef26",
   "metadata": {},
   "outputs": [
    {
     "name": "stdout",
     "output_type": "stream",
     "text": [
      "['Football (College)', 'University of Alabama', 'University of Cincinnati', 'Cotton Bowl (Football Game)', 'College Football Playoff National Championship']\n",
      "\n",
      "['White, Betty', 'People (Magazine)', 'Magazines', 'Birthdays', 'Actors and Actresses', 'Television']\n",
      "\n",
      "['White, Betty', 'Social Media', 'Actors and Actresses', 'Content Type: Personal Profile', 'Celebrities']\n",
      "\n",
      "['Crossword Puzzles', 'Wentz, Peter (Crossword Constructor)']\n",
      "\n",
      "['Football (College)', 'College Football Playoff National Championship', 'University of Georgia', 'University of Michigan']\n",
      "\n",
      "['Running', 'Ultramarathon Running', 'audio-neutral-informative', 'audio-neutral-immersive']\n",
      "\n",
      "['Football (College)', 'College Football Playoff National Championship', 'University of Alabama', 'University of Georgia']\n",
      "\n",
      "['New York City', 'Adams, Eric L', 'Mayors', 'Politics and Government', 'Democratic Party', 'Black People', 'Blacks', 'Inaugurations', 'Times Square and 42nd Street (Manhattan, NY)', 'Coronavirus (2019-nCoV)', 'Content Type: Personal Profile']\n",
      "\n"
     ]
    }
   ],
   "source": [
    "for a in articles[:10]:\n",
    "    if kwords := get_keywords(a):\n",
    "            print(kwords)\n",
    "            print()"
   ]
  },
  {
   "cell_type": "code",
   "execution_count": null,
   "id": "fafe8bd3",
   "metadata": {},
   "outputs": [],
   "source": []
  }
 ],
 "metadata": {
  "kernelspec": {
   "display_name": "Python 3 (ipykernel)",
   "language": "python",
   "name": "python3"
  },
  "language_info": {
   "codemirror_mode": {
    "name": "ipython",
    "version": 3
   },
   "file_extension": ".py",
   "mimetype": "text/x-python",
   "name": "python",
   "nbconvert_exporter": "python",
   "pygments_lexer": "ipython3",
   "version": "3.10.4"
  }
 },
 "nbformat": 4,
 "nbformat_minor": 5
}
